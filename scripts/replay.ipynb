{
 "cells": [
  {
   "cell_type": "markdown",
   "metadata": {},
   "source": [
    "# Script pour rejouer un certain modèle de DQN\n",
    "Source: https://medium.com/@www.seymour/training-an-ai-to-play-a-game-using-deep-reinforcement-learning-b63534cfdecd\n",
    "\n",
    "Dans ce script, il n'y a qu'à changer le numéro et chemin du modèle pour ensuite voir le rendu de l'agent"
   ]
  },
  {
   "cell_type": "markdown",
   "metadata": {},
   "source": [
    "### Imports"
   ]
  },
  {
   "cell_type": "code",
   "execution_count": 9,
   "metadata": {},
   "outputs": [],
   "source": [
    "import numpy as np\n",
    "import os\n",
    "import sys\n",
    "module_path = os.path.abspath(os.path.join('..'))\n",
    "if module_path not in sys.path:\n",
    "    sys.path.append(module_path)\n",
    "from src import dqn, game, record\n",
    "\n",
    "import importlib\n",
    "importlib.reload(game)\n",
    "importlib.reload(dqn)\n",
    "\n",
    "import pygame"
   ]
  },
  {
   "cell_type": "markdown",
   "metadata": {},
   "source": [
    "### Modèle à charger"
   ]
  },
  {
   "cell_type": "code",
   "execution_count": 13,
   "metadata": {},
   "outputs": [],
   "source": [
    "model = 299\n",
    "folder = os.path.join(\"..\", \"simulations\",\"2024-04-21 0227\", \"models\")\n",
    "record_video = False"
   ]
  },
  {
   "cell_type": "markdown",
   "metadata": {},
   "source": [
    "### Chargement des éléments de jeu"
   ]
  },
  {
   "cell_type": "code",
   "execution_count": 11,
   "metadata": {},
   "outputs": [],
   "source": [
    "env = game.Environment()\n",
    "\n",
    "agent = dqn.DQN(\n",
    "    state_shape=env.ENVIRONMENT_SHAPE,\n",
    "    action_size=env.ACTION_SPACE_SIZE\n",
    ")\n",
    "agent.load(os.path.join(folder, f\"{model}.keras\"))"
   ]
  },
  {
   "cell_type": "markdown",
   "metadata": {},
   "source": [
    "### Script de replay"
   ]
  },
  {
   "cell_type": "code",
   "execution_count": 12,
   "metadata": {},
   "outputs": [],
   "source": [
    "state = env.reset()\n",
    "state = np.expand_dims(state, axis=0)\n",
    "\n",
    "# Initialisation de pygame pour avoir le jeu\n",
    "pygame.init()\n",
    "screen = pygame.display.set_mode((env.WINDOW_WIDTH, env.WINDOW_HEIGHT))\n",
    "clock = pygame.time.Clock()\n",
    "running = True\n",
    "score = 0\n",
    "\n",
    "recorder = None\n",
    "if record_video:\n",
    "    recorder = record.ScreenRecorder(env.WINDOW_WIDTH, env.WINDOW_HEIGHT, env.FPS, f\"{folder}_{model}.avi\")\n",
    "\n",
    "# Boucle pour jouer au jeu\n",
    "while running:\n",
    "    pygame.display.set_caption(f\"Score: {score}\")\n",
    "\n",
    "    for event in pygame.event.get():\n",
    "        if event.type == pygame.QUIT:\n",
    "            running = False\n",
    "\n",
    "    action = agent.act(state, 0)\n",
    "    state, reward, done, score = env.step(action)\n",
    "    state = np.expand_dims(state, axis=0)\n",
    "\n",
    "    env.render(screen)\n",
    "    pygame.display.flip()\n",
    "    clock.tick(15)\n",
    "\n",
    "    if record_video:\n",
    "        recorder.capture_frame(screen)\n",
    "\n",
    "pygame.quit()\n",
    "if record_video:\n",
    "    recorder.end_recording()"
   ]
  }
 ],
 "metadata": {
  "kernelspec": {
   "display_name": "Python 3",
   "language": "python",
   "name": "python3"
  },
  "language_info": {
   "codemirror_mode": {
    "name": "ipython",
    "version": 3
   },
   "file_extension": ".py",
   "mimetype": "text/x-python",
   "name": "python",
   "nbconvert_exporter": "python",
   "pygments_lexer": "ipython3",
   "version": "3.11.4"
  },
  "orig_nbformat": 4
 },
 "nbformat": 4,
 "nbformat_minor": 2
}
