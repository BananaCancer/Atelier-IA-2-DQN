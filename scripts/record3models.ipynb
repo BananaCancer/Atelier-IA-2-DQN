{
 "cells": [
  {
   "cell_type": "markdown",
   "metadata": {},
   "source": [
    "# Script pour enregister la performance de 3 modèles\n",
    "Source: https://medium.com/@www.seymour/training-an-ai-to-play-a-game-using-deep-reinforcement-learning-b63534cfdecd\n",
    "Le script enregistre une vidéo dans le dossier parent des modèles"
   ]
  },
  {
   "cell_type": "markdown",
   "metadata": {},
   "source": [
    "### Imports"
   ]
  },
  {
   "cell_type": "code",
   "execution_count": 3,
   "metadata": {},
   "outputs": [],
   "source": [
    "import numpy as np\n",
    "import os\n",
    "import sys\n",
    "module_path = os.path.abspath(os.path.join('..'))\n",
    "if module_path not in sys.path:\n",
    "    sys.path.append(module_path)\n",
    "from src import dqn, game, record\n",
    "\n",
    "import importlib\n",
    "importlib.reload(game)\n",
    "importlib.reload(dqn)\n",
    "\n",
    "import pygame"
   ]
  },
  {
   "cell_type": "markdown",
   "metadata": {},
   "source": [
    "### Modèles à charger"
   ]
  },
  {
   "cell_type": "code",
   "execution_count": 4,
   "metadata": {},
   "outputs": [],
   "source": [
    "# Uniques paramètres à modifier si besoin\n",
    "models = [0, 30, 100]\n",
    "general_folder = \"../simulations/2024-04-19 0202\"\n",
    "\n",
    "folder = os.path.join(general_folder, \"models\")\n",
    "\n",
    "agents = []\n",
    "envs = []\n",
    "states = []\n",
    "scores = [0 for m in models]\n",
    "\n",
    "for model in models:\n",
    "    env = game.Environment()\n",
    "    agent = dqn.DQN(\n",
    "        state_shape=env.ENVIRONMENT_SHAPE,\n",
    "        action_size=env.ACTION_SPACE_SIZE\n",
    "    )\n",
    "    agent.load(f'{folder}/{model}.h5')\n",
    "\n",
    "    state = env.reset()\n",
    "    state = np.expand_dims(state, axis=0)\n",
    "\n",
    "    agents.append(agent)\n",
    "    envs.append(env)\n",
    "    states.append(state)\n",
    "\n",
    "padding = 10\n",
    "\n",
    "env = envs[0]"
   ]
  },
  {
   "cell_type": "code",
   "execution_count": 5,
   "metadata": {},
   "outputs": [
    {
     "name": "stdout",
     "output_type": "stream",
     "text": [
      "Initializing ScreenRecorder with parameters width:1100 height:360 fps:15.\n",
      "Output of the screen recording saved to ../simulations/2024-04-19 0202\\comparison_0_30_100.avi.\n"
     ]
    }
   ],
   "source": [
    "\n",
    "pygame.init()\n",
    "screen = pygame.display.set_mode((env.WINDOW_WIDTH * len(models) + (padding * (len(models) - 1)), env.WINDOW_HEIGHT))\n",
    "pygame.display.set_caption(f\"Models: {models}\")\n",
    "font = pygame.font.SysFont(None, 36)\n",
    "clock = pygame.time.Clock()\n",
    "running = True\n",
    "\n",
    "record_video = True\n",
    "\n",
    "recorder = None\n",
    "if record_video:\n",
    "    file_name = os.path.join(general_folder, \n",
    "                             f\"comparison_{'_'.join(map(str, models))}.avi\")\n",
    "    recorder = record.ScreenRecorder(env.WINDOW_WIDTH * len(models) + (padding * (len(models) - 1)), env.WINDOW_HEIGHT, 15, file_name)\n",
    "\n",
    "MAX_TICKS = 2000\n",
    "\n",
    "tick = 0\n",
    "while running:\n",
    "\n",
    "    screen.fill(\"white\")\n",
    "\n",
    "    for event in pygame.event.get():\n",
    "        if event.type == pygame.QUIT:\n",
    "            running = False\n",
    "\n",
    "    for m, model in enumerate(models):\n",
    "\n",
    "        x_offset = m * (env.WINDOW_WIDTH + padding)\n",
    "\n",
    "        action = agents[m].act(states[m], 0)\n",
    "        state, reward, done, scores[m] = envs[m].step(action)\n",
    "        states[m] = np.expand_dims(state, axis=0)\n",
    "\n",
    "        envs[m].render(screen, solo=False, x_offset=x_offset)\n",
    "\n",
    "        text_surface = font.render(f\"{scores[m]}\", True, (50, 50, 50))\n",
    "        screen.blit(text_surface, (int(x_offset + env.WINDOW_WIDTH / 2) - 10, 20))\n",
    "\n",
    "    # black bars\n",
    "    for i in range(1, len(models)):\n",
    "        x_offset = i * (env.WINDOW_WIDTH + padding)\n",
    "        pygame.draw.rect(\n",
    "            screen,\n",
    "            \"black\",\n",
    "            ((x_offset + padding, 0), (padding, env.WINDOW_HEIGHT))\n",
    "        )\n",
    "    \n",
    "    pygame.display.flip()\n",
    "    clock.tick(30)\n",
    "\n",
    "    if record_video:\n",
    "        recorder.capture_frame(screen)\n",
    "\n",
    "    tick += 1\n",
    "\n",
    "    if tick >= MAX_TICKS:\n",
    "        running = False\n",
    "\n",
    "pygame.quit()\n",
    "if record_video:\n",
    "    recorder.end_recording()"
   ]
  }
 ],
 "metadata": {
  "kernelspec": {
   "display_name": "Python 3",
   "language": "python",
   "name": "python3"
  },
  "language_info": {
   "codemirror_mode": {
    "name": "ipython",
    "version": 3
   },
   "file_extension": ".py",
   "mimetype": "text/x-python",
   "name": "python",
   "nbconvert_exporter": "python",
   "pygments_lexer": "ipython3",
   "version": "3.11.4"
  },
  "orig_nbformat": 4
 },
 "nbformat": 4,
 "nbformat_minor": 2
}
